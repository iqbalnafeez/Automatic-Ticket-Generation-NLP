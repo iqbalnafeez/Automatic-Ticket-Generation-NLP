{
 "cells": [
  {
   "cell_type": "code",
   "execution_count": 7,
   "metadata": {
    "colab": {
     "base_uri": "https://localhost:8080/",
     "height": 34
    },
    "colab_type": "code",
    "id": "6cYXEzcQJNSx",
    "outputId": "eeb9bd5c-759f-477f-9873-b392da87a8e9"
   },
   "outputs": [
    {
     "name": "stdout",
     "output_type": "stream",
     "text": [
      "Drive already mounted at /content/drive; to attempt to forcibly remount, call drive.mount(\"/content/drive\", force_remount=True).\n"
     ]
    }
   ],
   "source": [
    "from google.colab import drive\n",
    "drive.mount('/content/drive')"
   ]
  },
  {
   "cell_type": "code",
   "execution_count": 8,
   "metadata": {
    "colab": {},
    "colab_type": "code",
    "id": "inpsvYjdu8T_"
   },
   "outputs": [],
   "source": [
    "%%capture\n",
    "!pip install ftfy translate langdetect imbalanced-learn collections-extended rake_nltk googletrans"
   ]
  },
  {
   "cell_type": "code",
   "execution_count": 9,
   "metadata": {
    "colab": {},
    "colab_type": "code",
    "id": "X0l2TDFBkEdN"
   },
   "outputs": [],
   "source": [
    "import sys\n",
    "sys.path.append('/content/drive/My Drive/Capstone')"
   ]
  },
  {
   "cell_type": "code",
   "execution_count": 10,
   "metadata": {
    "colab": {
     "base_uri": "https://localhost:8080/",
     "height": 34
    },
    "colab_type": "code",
    "id": "MWBNGOtMjhU-",
    "outputId": "0bfe1aa0-2cdb-487a-faa6-795b7d683537"
   },
   "outputs": [
    {
     "name": "stdout",
     "output_type": "stream",
     "text": [
      "TensorFlow is already loaded. Please restart the runtime to change versions.\n"
     ]
    }
   ],
   "source": [
    "# !pip install chart_studio\n",
    "# !pip install wordcloud\n",
    "# !pip install ftfy\n",
    "# !pip install rake_nltk\n",
    "# !pip install gensim \n",
    "# !pip install missingno\n",
    "# !pip install googletrans\n",
    "# !pip install langdetect\n",
    "# !pip install imblearn\n",
    "# !pip install collections2\n",
    "\n",
    "# Standard Library\n",
    "import pandas as pd\n",
    "import numpy as np\n",
    "\n",
    "from ftfy import *\n",
    "import nltk\n",
    "from rake_nltk import Rake\n",
    "\n",
    "from utils.visualization import *\n",
    "from utils.datapreprocessing import *\n",
    "\n",
    "import missingno as msno\n",
    "import matplotlib.pyplot as plt \n",
    "from wordcloud import WordCloud, STOPWORDS\n",
    "import seaborn as sns \n",
    "\n",
    "# For Translation\n",
    "from googletrans import Translator\n",
    "from langdetect import detect\n",
    "\n",
    "#For Upsampling\n",
    "import imblearn\n",
    "from collections import Counter\n",
    "from matplotlib import pyplot\n",
    "from numpy import where\n",
    "# from imblearn.over_sampling import SMOTE\n",
    "from imblearn.over_sampling import RandomOverSampler\n",
    "\n",
    "# Import label encoder \n",
    "from sklearn import preprocessing \n",
    "\n",
    "from sklearn.feature_extraction.text import TfidfVectorizer\n",
    "from sklearn.model_selection import train_test_split\n",
    "from sklearn.metrics import accuracy_score,f1_score,recall_score,precision_score, confusion_matrix, classification_report\n",
    "from sklearn.feature_extraction.text import CountVectorizer\n",
    "\n",
    "# Import Dependencies\n",
    "\n",
    "import os\n",
    "import re\n",
    "\n",
    "import tensorflow as tf\n",
    "from tensorflow.python.keras.preprocessing.text import Tokenizer\n",
    "from tensorflow.python.keras.preprocessing.sequence import pad_sequences\n",
    "\n",
    "import keras\n",
    "\n",
    "from keras import layers\n",
    "# For Embedding Layer\n",
    "from keras.layers.embeddings import Embedding\n",
    "\n",
    "# For RNN Layer\n",
    "from keras.models import Sequential\n",
    "from keras.layers import Embedding, GRU, LSTM, Bidirectional\n",
    "from keras.layers import Dense, Dropout, Activation, Input,  Flatten\n",
    "\n",
    "# import numpy as np\n",
    "# from tensorflow import keras\n",
    "# from tensorflow.keras import layers\n",
    "\n",
    "# For CNN Layer\n",
    "from keras.layers import Conv1D, MaxPooling1D\n",
    "\n",
    "# For Text Summarization\n",
    "from gensim.summarization import summarize\n",
    "\n",
    "%tensorflow_version 1.x"
   ]
  },
  {
   "cell_type": "code",
   "execution_count": 25,
   "metadata": {
    "colab": {},
    "colab_type": "code",
    "id": "RG7A7GdEIIQW"
   },
   "outputs": [],
   "source": [
    "# Importing Final Dataset after upsampling and clustering"
   ]
  },
  {
   "cell_type": "code",
   "execution_count": 11,
   "metadata": {
    "colab": {},
    "colab_type": "code",
    "id": "wQzg0-ulGJQe"
   },
   "outputs": [],
   "source": [
    "\n",
    "filename= \"/content/drive/My Drive/Capstone/final_dataframe_forDeep_Learning_Model.csv\"\n",
    "df = pd.read_csv(filename)"
   ]
  },
  {
   "cell_type": "code",
   "execution_count": 26,
   "metadata": {
    "colab": {},
    "colab_type": "code",
    "id": "QE9xbcedIWrf"
   },
   "outputs": [],
   "source": [
    "# Label Encoding of Target variable"
   ]
  },
  {
   "cell_type": "code",
   "execution_count": 12,
   "metadata": {
    "colab": {
     "base_uri": "https://localhost:8080/",
     "height": 102
    },
    "colab_type": "code",
    "id": "vn55oXipo11n",
    "outputId": "f50c26ed-7db7-4e72-99da-204817e5c9c6"
   },
   "outputs": [
    {
     "data": {
      "text/plain": [
       "array([ 8, 30, 41, 52, 63, 74, 79, 80,  9, 10, 11, 12, 13, 14, 15, 16, 17,\n",
       "       18, 19, 20, 21, 22, 23, 24, 25, 26, 27, 28, 29, 31, 32, 34, 35, 36,\n",
       "       37, 38, 39, 40, 42, 43, 44, 45, 46, 47, 48, 49, 50, 51, 53, 54, 55,\n",
       "       56, 57, 58, 59, 60, 61, 62, 64, 65, 33, 66, 67, 68, 69, 70, 71, 72,\n",
       "       73, 75, 76, 77, 78,  2,  3,  0,  1,  4,  6,  5,  7])"
      ]
     },
     "execution_count": 12,
     "metadata": {
      "tags": []
     },
     "output_type": "execute_result"
    }
   ],
   "source": [
    "# label_encoder object knows how to understand word labels. \n",
    "label_encoder = preprocessing.LabelEncoder() \n",
    "  \n",
    "# Encode labels in column 'species'. \n",
    "df['Assignment group'] = label_encoder.fit_transform(df['Assignment group']) \n",
    "  \n",
    "df['Assignment group'].unique() "
   ]
  },
  {
   "cell_type": "code",
   "execution_count": 28,
   "metadata": {
    "colab": {},
    "colab_type": "code",
    "id": "0v3BQ6SSIfVf"
   },
   "outputs": [],
   "source": [
    "# Tokenizing and Padding the Independent features Complete Description"
   ]
  },
  {
   "cell_type": "code",
   "execution_count": 13,
   "metadata": {
    "colab": {},
    "colab_type": "code",
    "id": "13mQUKT9GeHv"
   },
   "outputs": [],
   "source": [
    "MAX_LENGTH = 300\n",
    "tokenizer = Tokenizer()\n",
    "tokenizer.fit_on_texts(df.Complete_Description.values)\n",
    "post_seq = tokenizer.texts_to_sequences(df.Complete_Description.values)\n",
    "post_seq_padded = pad_sequences(post_seq, maxlen=MAX_LENGTH)"
   ]
  },
  {
   "cell_type": "code",
   "execution_count": 14,
   "metadata": {
    "colab": {},
    "colab_type": "code",
    "id": "ZGHDQxiikuvh"
   },
   "outputs": [],
   "source": [
    "y = df['Assignment group']"
   ]
  },
  {
   "cell_type": "code",
   "execution_count": 29,
   "metadata": {
    "colab": {},
    "colab_type": "code",
    "id": "4n287QGEIm6R"
   },
   "outputs": [],
   "source": [
    "# Splitting the data into Train and Test (Ratio = 0.30)"
   ]
  },
  {
   "cell_type": "code",
   "execution_count": 15,
   "metadata": {
    "colab": {},
    "colab_type": "code",
    "id": "xvQeiyJFEB0w"
   },
   "outputs": [],
   "source": [
    "X_train, X_test, y_train, y_test = train_test_split(post_seq_padded, y, test_size=0.3, random_state=1)"
   ]
  },
  {
   "cell_type": "code",
   "execution_count": 16,
   "metadata": {
    "colab": {
     "base_uri": "https://localhost:8080/",
     "height": 34
    },
    "colab_type": "code",
    "id": "3n5gR6soECdh",
    "outputId": "440487fa-4a63-423c-ff13-da9301b0b932"
   },
   "outputs": [
    {
     "data": {
      "text/plain": [
       "((36560, 300), (15669, 300))"
      ]
     },
     "execution_count": 16,
     "metadata": {
      "tags": []
     },
     "output_type": "execute_result"
    }
   ],
   "source": [
    "X_train.shape,X_test.shape"
   ]
  },
  {
   "cell_type": "code",
   "execution_count": 17,
   "metadata": {
    "colab": {
     "base_uri": "https://localhost:8080/",
     "height": 34
    },
    "colab_type": "code",
    "id": "b2s0PPNgEEeY",
    "outputId": "913d3b8e-8b4d-4ab5-9885-1629e9adf239"
   },
   "outputs": [
    {
     "data": {
      "text/plain": [
       "((36560,), (15669,))"
      ]
     },
     "execution_count": 17,
     "metadata": {
      "tags": []
     },
     "output_type": "execute_result"
    }
   ],
   "source": [
    "y_train.shape, y_test.shape"
   ]
  },
  {
   "cell_type": "code",
   "execution_count": 30,
   "metadata": {
    "colab": {},
    "colab_type": "code",
    "id": "MQhH3N3hIsZ_"
   },
   "outputs": [],
   "source": [
    "# Creating input dimension ('vocab_size')"
   ]
  },
  {
   "cell_type": "code",
   "execution_count": 18,
   "metadata": {
    "colab": {
     "base_uri": "https://localhost:8080/",
     "height": 34
    },
    "colab_type": "code",
    "id": "4L6z5NFQEGap",
    "outputId": "6f9249c1-1a31-4f3f-efeb-32ba8f65aa89"
   },
   "outputs": [
    {
     "data": {
      "text/plain": [
       "16390"
      ]
     },
     "execution_count": 18,
     "metadata": {
      "tags": []
     },
     "output_type": "execute_result"
    }
   ],
   "source": [
    "vocab_size = len(tokenizer.word_index) + 1\n",
    "vocab_size"
   ]
  },
  {
   "cell_type": "code",
   "execution_count": 19,
   "metadata": {
    "colab": {
     "base_uri": "https://localhost:8080/",
     "height": 255
    },
    "colab_type": "code",
    "id": "PYo3Bg8pk7hD",
    "outputId": "54c0d54e-dd97-4f73-92e7-e95491ab39c8"
   },
   "outputs": [
    {
     "data": {
      "text/plain": [
       "<bound method DataFrame.info of                                     Complete_Description  Assignment group\n",
       "0      event: critical:HostName_221.company.com the v...                 8\n",
       "1      when undocking pc , screen will not come back ...                30\n",
       "2        received from: emailaddress  gentles,  i hav...                41\n",
       "3        received from: emailaddress  hi -  the print...                52\n",
       "4      received from: emailaddress  job Job_1424 fail...                63\n",
       "...                                                  ...               ...\n",
       "52224  name:mfeyouli ndobtzpw language: browser:micro...                 2\n",
       "52225                      account locked account locked                 1\n",
       "52226  hr_tool etime option not visitble  hr_tool eti...                 6\n",
       "52227  telephony_software issue telephony_software issue                 2\n",
       "52228  vip2: windows password reset for tifpdchb pedx...                 2\n",
       "\n",
       "[52229 rows x 2 columns]>"
      ]
     },
     "execution_count": 19,
     "metadata": {
      "tags": []
     },
     "output_type": "execute_result"
    }
   ],
   "source": [
    "df.info"
   ]
  },
  {
   "cell_type": "code",
   "execution_count": 31,
   "metadata": {
    "colab": {},
    "colab_type": "code",
    "id": "cTF7tKLnIypQ"
   },
   "outputs": [],
   "source": [
    "# Creating Output dimension ('num_class')"
   ]
  },
  {
   "cell_type": "code",
   "execution_count": 20,
   "metadata": {
    "colab": {
     "base_uri": "https://localhost:8080/",
     "height": 34
    },
    "colab_type": "code",
    "id": "un8mxCrplYkr",
    "outputId": "c1c48b84-da2a-4dee-d21f-998bff96fd7b"
   },
   "outputs": [
    {
     "data": {
      "text/plain": [
       "81"
      ]
     },
     "execution_count": 20,
     "metadata": {
      "tags": []
     },
     "output_type": "execute_result"
    }
   ],
   "source": [
    "num_class = len(np.unique(df['Assignment group'].values))\n",
    "num_class"
   ]
  },
  {
   "cell_type": "markdown",
   "metadata": {
    "colab_type": "text",
    "id": "9vd67x3JE_xN"
   },
   "source": [
    "## Bidirectional LSTM"
   ]
  },
  {
   "cell_type": "code",
   "execution_count": 21,
   "metadata": {
    "colab": {},
    "colab_type": "code",
    "id": "519_AS3MFCtp"
   },
   "outputs": [],
   "source": [
    "max_features = vocab_size  \n",
    "maxlen = 200\n",
    "seq_output_size = 128\n",
    "filters = 64\n",
    "kernel_size = 5\n",
    "pool_size = 4\n",
    "activation_func = 'sigmoid'"
   ]
  },
  {
   "cell_type": "code",
   "execution_count": 22,
   "metadata": {
    "colab": {
     "base_uri": "https://localhost:8080/",
     "height": 425
    },
    "colab_type": "code",
    "id": "WHqv3R4YFGeo",
    "outputId": "c0067571-fa90-4d5f-f3d4-2ac50ced0917"
   },
   "outputs": [
    {
     "name": "stdout",
     "output_type": "stream",
     "text": [
      "Model: \"model_1\"\n",
      "_________________________________________________________________\n",
      "Layer (type)                 Output Shape              Param #   \n",
      "=================================================================\n",
      "input_1 (InputLayer)         (None, None)              0         \n",
      "_________________________________________________________________\n",
      "embedding_1 (Embedding)      (None, None, 128)         2097920   \n",
      "_________________________________________________________________\n",
      "dropout_1 (Dropout)          (None, None, 128)         0         \n",
      "_________________________________________________________________\n",
      "bidirectional_1 (Bidirection (None, None, 128)         98816     \n",
      "_________________________________________________________________\n",
      "bidirectional_2 (Bidirection (None, 128)               98816     \n",
      "_________________________________________________________________\n",
      "dropout_2 (Dropout)          (None, 128)               0         \n",
      "_________________________________________________________________\n",
      "dense_1 (Dense)              (None, 32)                4128      \n",
      "_________________________________________________________________\n",
      "dense_2 (Dense)              (None, 81)                2673      \n",
      "=================================================================\n",
      "Total params: 2,302,353\n",
      "Trainable params: 2,302,353\n",
      "Non-trainable params: 0\n",
      "_________________________________________________________________\n"
     ]
    }
   ],
   "source": [
    "# Bi directional LSTM\n",
    "# Input for variable-length sequences of integers\n",
    "inputs = keras.Input(shape=(None,), dtype=\"int32\")\n",
    "# Embed each integer in a 128-dimensional vector\n",
    "x = layers.Embedding(max_features, 128)(inputs)\n",
    "x = layers.Dropout(0.2)(x)\n",
    "# Add 2 bidirectional LSTMs\n",
    "x = layers.Bidirectional(layers.LSTM(64, return_sequences=True))(x)\n",
    "x = layers.Bidirectional(layers.LSTM(64))(x)\n",
    "x = layers.Dropout(0.2)(x)\n",
    "x = layers.Dense(32, activation='relu')(x)\n",
    "outputs = layers.Dense(num_class, activation='softmax')(x)\n",
    "# Add a classifier\n",
    "bilstm_model = keras.Model(inputs, outputs)\n",
    "bilstm_model.summary()"
   ]
  },
  {
   "cell_type": "code",
   "execution_count": 23,
   "metadata": {
    "colab": {
     "base_uri": "https://localhost:8080/",
     "height": 343
    },
    "colab_type": "code",
    "id": "nJlM6KNOFIYl",
    "outputId": "c5bc1ad7-5b65-4c28-8727-44c8f58c4568"
   },
   "outputs": [
    {
     "name": "stderr",
     "output_type": "stream",
     "text": [
      "/usr/local/lib/python3.6/dist-packages/tensorflow/python/framework/indexed_slices.py:434: UserWarning: Converting sparse IndexedSlices to a dense Tensor of unknown shape. This may consume a large amount of memory.\n",
      "  \"Converting sparse IndexedSlices to a dense Tensor of unknown shape. \"\n"
     ]
    },
    {
     "name": "stdout",
     "output_type": "stream",
     "text": [
      "Train on 36560 samples, validate on 15669 samples\n",
      "Epoch 1/7\n",
      "36560/36560 [==============================] - 855s 23ms/step - loss: 1.6869 - acc: 0.5708 - val_loss: 0.7063 - val_acc: 0.8193\n",
      "Epoch 2/7\n",
      "36560/36560 [==============================] - 862s 24ms/step - loss: 0.5394 - acc: 0.8552 - val_loss: 0.4316 - val_acc: 0.8914\n",
      "Epoch 3/7\n",
      "36560/36560 [==============================] - 862s 24ms/step - loss: 0.3404 - acc: 0.9085 - val_loss: 0.3400 - val_acc: 0.9161\n",
      "Epoch 4/7\n",
      "36560/36560 [==============================] - 864s 24ms/step - loss: 0.2434 - acc: 0.9344 - val_loss: 0.3003 - val_acc: 0.9245\n",
      "Epoch 5/7\n",
      "36560/36560 [==============================] - 864s 24ms/step - loss: 0.1942 - acc: 0.9474 - val_loss: 0.2924 - val_acc: 0.9324\n",
      "Epoch 6/7\n",
      "36560/36560 [==============================] - 861s 24ms/step - loss: 0.1591 - acc: 0.9570 - val_loss: 0.2702 - val_acc: 0.9404\n",
      "Epoch 7/7\n",
      "36560/36560 [==============================] - 863s 24ms/step - loss: 0.1211 - acc: 0.9669 - val_loss: 0.2618 - val_acc: 0.9456\n"
     ]
    },
    {
     "data": {
      "text/plain": [
       "<keras.callbacks.callbacks.History at 0x7f78365b4550>"
      ]
     },
     "execution_count": 23,
     "metadata": {
      "tags": []
     },
     "output_type": "execute_result"
    }
   ],
   "source": [
    "#model.compile(\"adam\", \"binary_crossentropy\", metrics=[\"accuracy\"])\n",
    "bilstm_model.compile(optimizer='adam',\n",
    "              loss='sparse_categorical_crossentropy',\n",
    "              metrics=['acc'])\n",
    "bilstm_model.fit(X_train, y_train, batch_size=20, epochs=7, validation_data=(X_test, y_test))"
   ]
  },
  {
   "cell_type": "code",
   "execution_count": 24,
   "metadata": {
    "colab": {
     "base_uri": "https://localhost:8080/",
     "height": 34
    },
    "colab_type": "code",
    "id": "xmi6sP9iFL03",
    "outputId": "ef85c02d-a5c0-4ce0-9bb6-042d03bbbb93"
   },
   "outputs": [
    {
     "data": {
      "text/plain": [
       "0.9456251196630289"
      ]
     },
     "execution_count": 24,
     "metadata": {
      "tags": []
     },
     "output_type": "execute_result"
    }
   ],
   "source": [
    "bilstm_predicted = bilstm_model.predict(X_test)\n",
    "bilstm_predicted = np.argmax(bilstm_predicted, axis=1)\n",
    "accuracy_score(y_test, bilstm_predicted)"
   ]
  }
 ],
 "metadata": {
  "accelerator": "TPU",
  "colab": {
   "collapsed_sections": [],
   "machine_shape": "hm",
   "name": "NLP_BILSTM_GRU_Deeplearning_models_Jul_25GBRAM.ipynb",
   "provenance": []
  },
  "kernelspec": {
   "display_name": "Python 3",
   "language": "python",
   "name": "python3"
  },
  "language_info": {
   "codemirror_mode": {
    "name": "ipython",
    "version": 3
   },
   "file_extension": ".py",
   "mimetype": "text/x-python",
   "name": "python",
   "nbconvert_exporter": "python",
   "pygments_lexer": "ipython3",
   "version": "3.7.6"
  }
 },
 "nbformat": 4,
 "nbformat_minor": 4
}
