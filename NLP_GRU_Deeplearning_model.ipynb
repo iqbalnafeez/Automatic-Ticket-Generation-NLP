{
 "cells": [
  {
   "cell_type": "code",
   "execution_count": 1,
   "metadata": {
    "colab": {
     "base_uri": "https://localhost:8080/",
     "height": 121
    },
    "colab_type": "code",
    "id": "6cYXEzcQJNSx",
    "outputId": "cb047eb8-4b4e-4356-8ca9-d76b5275f4d3"
   },
   "outputs": [
    {
     "name": "stdout",
     "output_type": "stream",
     "text": [
      "Go to this URL in a browser: https://accounts.google.com/o/oauth2/auth?client_id=947318989803-6bn6qk8qdgf4n4g3pfee6491hc0brc4i.apps.googleusercontent.com&redirect_uri=urn%3aietf%3awg%3aoauth%3a2.0%3aoob&response_type=code&scope=email%20https%3a%2f%2fwww.googleapis.com%2fauth%2fdocs.test%20https%3a%2f%2fwww.googleapis.com%2fauth%2fdrive%20https%3a%2f%2fwww.googleapis.com%2fauth%2fdrive.photos.readonly%20https%3a%2f%2fwww.googleapis.com%2fauth%2fpeopleapi.readonly\n",
      "\n",
      "Enter your authorization code:\n",
      "··········\n",
      "Mounted at /content/drive\n"
     ]
    }
   ],
   "source": [
    "from google.colab import drive\n",
    "drive.mount('/content/drive')"
   ]
  },
  {
   "cell_type": "code",
   "execution_count": 3,
   "metadata": {
    "colab": {},
    "colab_type": "code",
    "id": "Gd_tR1MJJZvn"
   },
   "outputs": [],
   "source": [
    "%%capture\n",
    "!pip install ftfy translate langdetect imbalanced-learn collections-extended rake_nltk googletrans"
   ]
  },
  {
   "cell_type": "code",
   "execution_count": 4,
   "metadata": {
    "colab": {},
    "colab_type": "code",
    "id": "X0l2TDFBkEdN"
   },
   "outputs": [],
   "source": [
    "import sys\n",
    "sys.path.insert(0,'/content/drive/My Drive/Colab Notebooks')"
   ]
  },
  {
   "cell_type": "code",
   "execution_count": 6,
   "metadata": {
    "colab": {
     "base_uri": "https://localhost:8080/",
     "height": 171
    },
    "colab_type": "code",
    "id": "MWBNGOtMjhU-",
    "outputId": "ce32ada2-3711-41f0-886c-f9bed888fc94"
   },
   "outputs": [
    {
     "name": "stderr",
     "output_type": "stream",
     "text": [
      "/usr/local/lib/python3.6/dist-packages/statsmodels/tools/_testing.py:19: FutureWarning: pandas.util.testing is deprecated. Use the functions in the public API at pandas.testing instead.\n",
      "  import pandas.util.testing as tm\n",
      "/usr/local/lib/python3.6/dist-packages/sklearn/externals/six.py:31: FutureWarning: The module is deprecated in version 0.21 and will be removed in version 0.23 since we've dropped support for Python 2.7. Please rely on the official version of six (https://pypi.org/project/six/).\n",
      "  \"(https://pypi.org/project/six/).\", FutureWarning)\n",
      "/usr/local/lib/python3.6/dist-packages/sklearn/utils/deprecation.py:144: FutureWarning: The sklearn.neighbors.base module is  deprecated in version 0.22 and will be removed in version 0.24. The corresponding classes / functions should instead be imported from sklearn.neighbors. Anything that cannot be imported from sklearn.neighbors is now part of the private API.\n",
      "  warnings.warn(message, FutureWarning)\n",
      "Using TensorFlow backend.\n"
     ]
    },
    {
     "name": "stdout",
     "output_type": "stream",
     "text": [
      "TensorFlow is already loaded. Please restart the runtime to change versions.\n"
     ]
    }
   ],
   "source": [
    "# !pip install chart_studio\n",
    "# !pip install wordcloud\n",
    "# !pip install ftfy\n",
    "# !pip install rake_nltk\n",
    "# !pip install gensim \n",
    "# !pip install missingno\n",
    "# !pip install googletrans\n",
    "# !pip install langdetect\n",
    "# !pip install imblearn\n",
    "# !pip install collections2\n",
    "\n",
    "# Standard Library\n",
    "import pandas as pd\n",
    "import numpy as np\n",
    "\n",
    "from ftfy import *\n",
    "import nltk\n",
    "from rake_nltk import Rake\n",
    "\n",
    "import missingno as msno\n",
    "import matplotlib.pyplot as plt \n",
    "from wordcloud import WordCloud, STOPWORDS\n",
    "import seaborn as sns \n",
    "\n",
    "# For Translation\n",
    "from googletrans import Translator\n",
    "from langdetect import detect\n",
    "\n",
    "#For Upsampling\n",
    "import imblearn\n",
    "from collections import Counter\n",
    "from matplotlib import pyplot\n",
    "from numpy import where\n",
    "# from imblearn.over_sampling import SMOTE\n",
    "from imblearn.over_sampling import RandomOverSampler\n",
    "\n",
    "# Import label encoder \n",
    "from sklearn import preprocessing \n",
    "\n",
    "from sklearn.feature_extraction.text import TfidfVectorizer\n",
    "from sklearn.model_selection import train_test_split\n",
    "from sklearn.metrics import accuracy_score,f1_score,recall_score,precision_score, confusion_matrix, classification_report\n",
    "from sklearn.feature_extraction.text import CountVectorizer\n",
    "\n",
    "# Import Dependencies\n",
    "\n",
    "import os\n",
    "import re\n",
    "\n",
    "import tensorflow as tf\n",
    "from tensorflow.python.keras.preprocessing.text import Tokenizer\n",
    "from tensorflow.python.keras.preprocessing.sequence import pad_sequences\n",
    "\n",
    "import keras\n",
    "\n",
    "from keras import layers\n",
    "# For Embedding Layer\n",
    "from keras.layers.embeddings import Embedding\n",
    "\n",
    "# For RNN Layer\n",
    "from keras.models import Sequential\n",
    "from keras.layers import Embedding, GRU, LSTM, Bidirectional\n",
    "from keras.layers import Dense, Dropout, Activation, Input,  Flatten\n",
    "\n",
    "# import numpy as np\n",
    "# from tensorflow import keras\n",
    "# from tensorflow.keras import layers\n",
    "\n",
    "# For CNN Layer\n",
    "from keras.layers import Conv1D, MaxPooling1D\n",
    "\n",
    "# For Text Summarization\n",
    "from gensim.summarization import summarize\n",
    "\n",
    "%tensorflow_version 1.x"
   ]
  },
  {
   "cell_type": "code",
   "execution_count": 7,
   "metadata": {
    "colab": {},
    "colab_type": "code",
    "id": "wQzg0-ulGJQe"
   },
   "outputs": [],
   "source": [
    "\n",
    "filename= \"/content/drive/My Drive/Colab Notebooks/final_dataframe_forDeep_Learning_Model.csv\"\n",
    "df = pd.read_csv(filename)"
   ]
  },
  {
   "cell_type": "markdown",
   "metadata": {
    "colab_type": "text",
    "id": "6WuvYMcYG6uq"
   },
   "source": [
    "# COPY THE BELOW CODE"
   ]
  },
  {
   "cell_type": "code",
   "execution_count": 8,
   "metadata": {
    "colab": {
     "base_uri": "https://localhost:8080/",
     "height": 101
    },
    "colab_type": "code",
    "id": "vn55oXipo11n",
    "outputId": "53d6a95e-2181-4ace-d073-a02da37625bb"
   },
   "outputs": [
    {
     "data": {
      "text/plain": [
       "array([ 8, 30, 41, 52, 63, 74, 79, 80,  9, 10, 11, 12, 13, 14, 15, 16, 17,\n",
       "       18, 19, 20, 21, 22, 23, 24, 25, 26, 27, 28, 29, 31, 32, 34, 35, 36,\n",
       "       37, 38, 39, 40, 42, 43, 44, 45, 46, 47, 48, 49, 50, 51, 53, 54, 55,\n",
       "       56, 57, 58, 59, 60, 61, 62, 64, 65, 33, 66, 67, 68, 69, 70, 71, 72,\n",
       "       73, 75, 76, 77, 78,  2,  3,  0,  1,  4,  6,  5,  7])"
      ]
     },
     "execution_count": 8,
     "metadata": {
      "tags": []
     },
     "output_type": "execute_result"
    }
   ],
   "source": [
    "# label_encoder object knows how to understand word labels. \n",
    "label_encoder = preprocessing.LabelEncoder() \n",
    "  \n",
    "# Encode labels in column 'species'. \n",
    "df['Assignment group'] = label_encoder.fit_transform(df['Assignment group']) \n",
    "  \n",
    "df['Assignment group'].unique() "
   ]
  },
  {
   "cell_type": "code",
   "execution_count": 9,
   "metadata": {
    "colab": {},
    "colab_type": "code",
    "id": "13mQUKT9GeHv"
   },
   "outputs": [],
   "source": [
    "MAX_LENGTH = 300\n",
    "tokenizer = Tokenizer()\n",
    "tokenizer.fit_on_texts(df.Complete_Description.values)\n",
    "post_seq = tokenizer.texts_to_sequences(df.Complete_Description.values)\n",
    "post_seq_padded = pad_sequences(post_seq, maxlen=MAX_LENGTH)"
   ]
  },
  {
   "cell_type": "code",
   "execution_count": 10,
   "metadata": {
    "colab": {},
    "colab_type": "code",
    "id": "ZGHDQxiikuvh"
   },
   "outputs": [],
   "source": [
    "y = df['Assignment group']"
   ]
  },
  {
   "cell_type": "code",
   "execution_count": 11,
   "metadata": {
    "colab": {},
    "colab_type": "code",
    "id": "xvQeiyJFEB0w"
   },
   "outputs": [],
   "source": [
    "X_train, X_test, y_train, y_test = train_test_split(post_seq_padded, y, test_size=0.3, random_state=1)"
   ]
  },
  {
   "cell_type": "code",
   "execution_count": 12,
   "metadata": {
    "colab": {
     "base_uri": "https://localhost:8080/",
     "height": 34
    },
    "colab_type": "code",
    "id": "3n5gR6soECdh",
    "outputId": "febe1851-7da6-4099-9e04-14f16bbe9fa5"
   },
   "outputs": [
    {
     "data": {
      "text/plain": [
       "((36560, 300), (15669, 300))"
      ]
     },
     "execution_count": 12,
     "metadata": {
      "tags": []
     },
     "output_type": "execute_result"
    }
   ],
   "source": [
    "X_train.shape,X_test.shape"
   ]
  },
  {
   "cell_type": "code",
   "execution_count": 13,
   "metadata": {
    "colab": {
     "base_uri": "https://localhost:8080/",
     "height": 34
    },
    "colab_type": "code",
    "id": "b2s0PPNgEEeY",
    "outputId": "2548c7b7-3e91-4f52-bede-78d39122f647"
   },
   "outputs": [
    {
     "data": {
      "text/plain": [
       "((36560,), (15669,))"
      ]
     },
     "execution_count": 13,
     "metadata": {
      "tags": []
     },
     "output_type": "execute_result"
    }
   ],
   "source": [
    "y_train.shape, y_test.shape"
   ]
  },
  {
   "cell_type": "code",
   "execution_count": 14,
   "metadata": {
    "colab": {
     "base_uri": "https://localhost:8080/",
     "height": 34
    },
    "colab_type": "code",
    "id": "4L6z5NFQEGap",
    "outputId": "eec4aa5e-4514-4074-fdd8-cb6746dcf5d4"
   },
   "outputs": [
    {
     "data": {
      "text/plain": [
       "16390"
      ]
     },
     "execution_count": 14,
     "metadata": {
      "tags": []
     },
     "output_type": "execute_result"
    }
   ],
   "source": [
    "vocab_size = len(tokenizer.word_index) + 1\n",
    "vocab_size"
   ]
  },
  {
   "cell_type": "code",
   "execution_count": 15,
   "metadata": {
    "colab": {
     "base_uri": "https://localhost:8080/",
     "height": 34
    },
    "colab_type": "code",
    "id": "un8mxCrplYkr",
    "outputId": "22842d91-f4fb-4a24-ee55-9937080fd1df"
   },
   "outputs": [
    {
     "data": {
      "text/plain": [
       "81"
      ]
     },
     "execution_count": 15,
     "metadata": {
      "tags": []
     },
     "output_type": "execute_result"
    }
   ],
   "source": [
    "num_class = len(np.unique(df['Assignment group'].values))\n",
    "num_class"
   ]
  },
  {
   "cell_type": "markdown",
   "metadata": {
    "colab_type": "text",
    "id": "9vd67x3JE_xN"
   },
   "source": [
    "## GRU"
   ]
  },
  {
   "cell_type": "code",
   "execution_count": 16,
   "metadata": {
    "colab": {},
    "colab_type": "code",
    "id": "519_AS3MFCtp"
   },
   "outputs": [],
   "source": [
    "max_features = vocab_size  \n",
    "maxlen = 200\n",
    "seq_output_size = 128\n",
    "filters = 64\n",
    "kernel_size = 5\n",
    "pool_size = 4\n",
    "activation_func = 'sigmoid'"
   ]
  },
  {
   "cell_type": "code",
   "execution_count": 17,
   "metadata": {
    "colab": {
     "base_uri": "https://localhost:8080/",
     "height": 420
    },
    "colab_type": "code",
    "id": "1Vpp4w9iFn_h",
    "outputId": "d2799f29-fdd2-4b24-e7a5-59de3a3efb73"
   },
   "outputs": [
    {
     "name": "stdout",
     "output_type": "stream",
     "text": [
      "Model: \"model_1\"\n",
      "_________________________________________________________________\n",
      "Layer (type)                 Output Shape              Param #   \n",
      "=================================================================\n",
      "input_1 (InputLayer)         (None, None)              0         \n",
      "_________________________________________________________________\n",
      "embedding_1 (Embedding)      (None, None, 128)         2097920   \n",
      "_________________________________________________________________\n",
      "dropout_1 (Dropout)          (None, None, 128)         0         \n",
      "_________________________________________________________________\n",
      "conv1d_1 (Conv1D)            (None, None, 64)          41024     \n",
      "_________________________________________________________________\n",
      "max_pooling1d_1 (MaxPooling1 (None, None, 64)          0         \n",
      "_________________________________________________________________\n",
      "gru_1 (GRU)                  (None, 128)               74112     \n",
      "_________________________________________________________________\n",
      "dense_1 (Dense)              (None, 1)                 129       \n",
      "_________________________________________________________________\n",
      "dense_2 (Dense)              (None, 81)                162       \n",
      "=================================================================\n",
      "Total params: 2,213,347\n",
      "Trainable params: 2,213,347\n",
      "Non-trainable params: 0\n",
      "_________________________________________________________________\n"
     ]
    }
   ],
   "source": [
    "# GRU \n",
    "# Input for variable-length sequences of integers\n",
    "inputs = keras.Input(shape=(None,), dtype=\"int32\")\n",
    "# Embed each integer in a 128-dimensional vector\n",
    "# x = layers.Add(Sequential())(inputs)\n",
    "x = layers.Embedding(max_features, 128)(inputs)\n",
    "x = layers.Dropout(0.2)(x)\n",
    "x = layers.Conv1D(filters,\n",
    "                 kernel_size,\n",
    "                 padding='valid',\n",
    "                 activation='relu',\n",
    "                 strides=1)(x)\n",
    "x = layers.MaxPooling1D(pool_size=pool_size)(x)\n",
    "# Add GRU\n",
    "x = layers.GRU(seq_output_size, dropout=0.2, recurrent_dropout=0.2)(x)\n",
    "x = layers.Dense(1)(x)\n",
    "# outputs = layers.Activation('sigmoid')(x)\n",
    "outputs = layers.Dense(num_class, activation='softmax')(x)\n",
    "# Add a classifier\n",
    "gru_model = keras.Model(inputs, outputs)\n",
    "gru_model.summary()"
   ]
  },
  {
   "cell_type": "code",
   "execution_count": 18,
   "metadata": {
    "colab": {
     "base_uri": "https://localhost:8080/",
     "height": 339
    },
    "colab_type": "code",
    "id": "XbTdhossFtBk",
    "outputId": "9f74a68a-43a8-45cf-9a91-015011487d02"
   },
   "outputs": [
    {
     "name": "stderr",
     "output_type": "stream",
     "text": [
      "/usr/local/lib/python3.6/dist-packages/tensorflow/python/framework/indexed_slices.py:434: UserWarning: Converting sparse IndexedSlices to a dense Tensor of unknown shape. This may consume a large amount of memory.\n",
      "  \"Converting sparse IndexedSlices to a dense Tensor of unknown shape. \"\n"
     ]
    },
    {
     "name": "stdout",
     "output_type": "stream",
     "text": [
      "Train on 36560 samples, validate on 15669 samples\n",
      "Epoch 1/7\n",
      "36560/36560 [==============================] - 218s 6ms/step - loss: 3.8932 - acc: 0.0304 - val_loss: 3.5902 - val_acc: 0.0370\n",
      "Epoch 2/7\n",
      "36560/36560 [==============================] - 224s 6ms/step - loss: 3.3918 - acc: 0.0574 - val_loss: 3.3524 - val_acc: 0.0766\n",
      "Epoch 3/7\n",
      "36560/36560 [==============================] - 224s 6ms/step - loss: 5.3663 - acc: 0.0694 - val_loss: 3.2893 - val_acc: 0.0776\n",
      "Epoch 4/7\n",
      "36560/36560 [==============================] - 227s 6ms/step - loss: 3.2825 - acc: 0.0843 - val_loss: 3.2138 - val_acc: 0.0876\n",
      "Epoch 5/7\n",
      "36560/36560 [==============================] - 227s 6ms/step - loss: 3.0990 - acc: 0.1079 - val_loss: 3.1456 - val_acc: 0.0934\n",
      "Epoch 6/7\n",
      "36560/36560 [==============================] - 222s 6ms/step - loss: 3.0088 - acc: 0.1236 - val_loss: 3.1147 - val_acc: 0.0958\n",
      "Epoch 7/7\n",
      "36560/36560 [==============================] - 220s 6ms/step - loss: 3.0330 - acc: 0.1290 - val_loss: 3.0645 - val_acc: 0.1095\n"
     ]
    },
    {
     "data": {
      "text/plain": [
       "<keras.callbacks.callbacks.History at 0x7f178afcaf60>"
      ]
     },
     "execution_count": 18,
     "metadata": {
      "tags": []
     },
     "output_type": "execute_result"
    }
   ],
   "source": [
    "gru_model.compile(optimizer='adam',\n",
    "              loss='sparse_categorical_crossentropy',\n",
    "              metrics=['acc'])\n",
    "gru_model.fit(X_train, y_train, batch_size=20, epochs=7, validation_data=(X_test, y_test))"
   ]
  },
  {
   "cell_type": "code",
   "execution_count": 19,
   "metadata": {
    "colab": {
     "base_uri": "https://localhost:8080/",
     "height": 34
    },
    "colab_type": "code",
    "id": "FVimitosFvOd",
    "outputId": "04d39c82-f6e0-4ad6-f200-35193936388f"
   },
   "outputs": [
    {
     "data": {
      "text/plain": [
       "0.10945178377688429"
      ]
     },
     "execution_count": 19,
     "metadata": {
      "tags": []
     },
     "output_type": "execute_result"
    }
   ],
   "source": [
    "gru_predicted = gru_model.predict(X_test)\n",
    "gru_predicted = np.argmax(gru_predicted, axis=1)\n",
    "accuracy_score(y_test, gru_predicted)"
   ]
  },
  {
   "cell_type": "code",
   "execution_count": null,
   "metadata": {
    "colab": {},
    "colab_type": "code",
    "id": "CxDjPOpa8q1g"
   },
   "outputs": [],
   "source": []
  }
 ],
 "metadata": {
  "accelerator": "TPU",
  "colab": {
   "collapsed_sections": [],
   "machine_shape": "hm",
   "name": "NLP_GRU_Deeplearning_models_Jul_25GBRAM.ipynb",
   "provenance": [],
   "toc_visible": true
  },
  "kernelspec": {
   "display_name": "Python 3",
   "language": "python",
   "name": "python3"
  },
  "language_info": {
   "codemirror_mode": {
    "name": "ipython",
    "version": 3
   },
   "file_extension": ".py",
   "mimetype": "text/x-python",
   "name": "python",
   "nbconvert_exporter": "python",
   "pygments_lexer": "ipython3",
   "version": "3.7.6"
  }
 },
 "nbformat": 4,
 "nbformat_minor": 4
}
